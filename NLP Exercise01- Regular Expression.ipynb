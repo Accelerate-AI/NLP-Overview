{
 "cells": [
  {
   "cell_type": "markdown",
   "metadata": {},
   "source": [
    "### Natural Language Processing"
   ]
  },
  {
   "cell_type": "markdown",
   "metadata": {},
   "source": [
    "#### Regular expressions\n",
    "\n",
    "A regex is a special sequence of characters that defines a pattern for complex string-matching functionality.\n",
    "\n",
    "- re: a package in Python to work with regular expressions\n",
    "- Functions:\n",
    "     - match: checks for a match only at the beginning of the string\n",
    "     - search: checks for a match anywhere in the string (this is what Perl does by default)\n",
    "     - fullmatch: checks for entire string to be a match\n",
    "     - findall: Returns a list containing all matches\n",
    "     - split: Returns a list where the string has been split at each match\n",
    "     - sub: Replaces one or many matches with a string\n",
    "    \n",
    "- Quantifiers:\n",
    "    - [  ]\tSet of characters in the bracket\t\n",
    "    - [^ ]  Complement of the set in bracket\n",
    "    - .\tAny character \t\n",
    "    - '*'\tZero or more occurrences\n",
    "    - '+'\tOne or more occurrences\t\t\n",
    "    - ?\tZero or one occurrences\t\t\n",
    "    - {}\tExactly the specified number of occurrences\t \n",
    "- Non-Greedy Match:\n",
    "    - *?, +?, ?? \n",
    "  \n",
    "- Anchors:\n",
    "    - ^\tStarts with\t\n",
    "    - $\tEnds with\n",
    "    \n",
    "- Capture and group:\n",
    "    - ()\t\n",
    "- Others:\n",
    "    - |\tEither or\t\n",
    "    - \\\tSignals a special sequence (w - any alphanumeric word, d - digits, D - non-digit, s- escape sequence)\n",
    "    \n",
    "- More Information: https://docs.python.org/3/library/re.html"
   ]
  },
  {
   "cell_type": "code",
   "execution_count": 1,
   "metadata": {},
   "outputs": [],
   "source": [
    "import re"
   ]
  },
  {
   "cell_type": "code",
   "execution_count": 31,
   "metadata": {},
   "outputs": [
    {
     "name": "stdout",
     "output_type": "stream",
     "text": [
      "<re.Match object; span=(4, 6), match='ai'>\n",
      "['ai', 'ai']\n"
     ]
    }
   ],
   "source": [
    "#Find occurrence of characters\n",
    "\n",
    "text = \"It rained in Spain\"\n",
    "\n",
    "#Only first instance\n",
    "x = re.search(\"ai\", text)\n",
    "print(x)\n",
    "\n",
    "#All instances \n",
    "X = re.findall(\"ai\", text)\n",
    "print(X)"
   ]
  },
  {
   "cell_type": "code",
   "execution_count": 36,
   "metadata": {},
   "outputs": [
    {
     "name": "stdout",
     "output_type": "stream",
     "text": [
      "a =  <re.Match object; span=(7, 9), match='is'>\n",
      "b =  <re.Match object; span=(0, 6), match='PYTHON'>\n"
     ]
    }
   ],
   "source": [
    "#Ignore case \n",
    "\n",
    "a = re.search('[a-z]+', 'PYTHON is great!')\n",
    "\n",
    "b = re.search('[a-z]+', 'PYTHON is great!')   # add the flag re.I\n",
    "\n",
    "\n",
    "print(\"a = \", a)\n",
    "print(\"b = \", b)"
   ]
  },
  {
   "cell_type": "code",
   "execution_count": 3,
   "metadata": {},
   "outputs": [
    {
     "name": "stdout",
     "output_type": "stream",
     "text": [
      "['07/12/1980', '07-28-2019']\n"
     ]
    }
   ],
   "source": [
    "#Find occurrence of dates\n",
    "\n",
    "text = '''My name is Sachin. I was born on 07/12/1980 in Mumbai.\n",
    "I graduated from University of Georgia on 07-28-2019.'''\n",
    "\n",
    "#The regex pattern to extract dates\n",
    "pattern =  MM(/-)DD(/-)YYYY                      # add \"\\d{2}[/-]\\d{2}[/-]\\d{4}\"\n",
    "\n",
    "#Will return all the strings that are matched\n",
    "dates = re.findall(pattern, text)\n",
    "\n",
    "print(dates)"
   ]
  },
  {
   "cell_type": "code",
   "execution_count": 4,
   "metadata": {},
   "outputs": [
    {
     "data": {
      "text/plain": [
       "['carefully', 'quickly']"
      ]
     },
     "execution_count": 4,
     "metadata": {},
     "output_type": "execute_result"
    }
   ],
   "source": [
    "# Finding all Adverbs in a text (ends with ly)\n",
    "\n",
    "text = \"He was carefully disguised but captured quickly by police.\"\n",
    "pattern = <ending in ly>               # r\"\\w+ly\\b\"\n",
    "\n",
    "re.findall(pattern, text)"
   ]
  },
  {
   "cell_type": "code",
   "execution_count": 39,
   "metadata": {},
   "outputs": [
    {
     "data": {
      "text/plain": [
       "['#AI', '#technology', '#industry.']"
      ]
     },
     "execution_count": 39,
     "metadata": {},
     "output_type": "execute_result"
    }
   ],
   "source": [
    "# Capturing all hashtag in a tweet\n",
    "\n",
    "text = \"#AI is a powerful #technology that can be utilized in any #industry.\"\n",
    "\n",
    "pattern = r'#\\S+'            #same as  (#+[a-zA-Z0-9]{1,})'\n",
    "    \n",
    "re.findall(pattern, text)"
   ]
  },
  {
   "cell_type": "code",
   "execution_count": 7,
   "metadata": {},
   "outputs": [
    {
     "data": {
      "text/plain": [
       "['#plants', '##arebaba', '#tey', '#blessed', '#weed']"
      ]
     },
     "execution_count": 7,
     "metadata": {},
     "output_type": "execute_result"
    }
   ],
   "source": [
    "# Try it out yourslef\n",
    "text = 'sun #plants #!wood% ##arebaba#tey   travel#blessed    #weed das#$#!@D!AAAA'\n",
    "\n",
    "pattern = ?\n",
    "re.findall(pattern, text)"
   ]
  },
  {
   "cell_type": "code",
   "execution_count": 48,
   "metadata": {},
   "outputs": [
    {
     "name": "stdout",
     "output_type": "stream",
     "text": [
      "alice-b@google.com\n",
      "bob@fb.com\n"
     ]
    }
   ],
   "source": [
    "#Find occurrence of emails\n",
    "## re.findall() returns a list of all the found email strings\n",
    "\n",
    "text = 'purple alice-b@google.com, blah monkey bob@fb.com dishwasher'\n",
    "\n",
    "pattern = ----@----                               # r'[\\w\\.-]+@[\\w\\.-]+'\n",
    "\n",
    "emails = re.findall(pattern, text) \n",
    "for email in emails:\n",
    "    print(email)"
   ]
  },
  {
   "cell_type": "code",
   "execution_count": 25,
   "metadata": {},
   "outputs": [
    {
     "name": "stdout",
     "output_type": "stream",
     "text": [
      "alice-b@google.com\n",
      "alice-b\n",
      "google.com\n"
     ]
    }
   ],
   "source": [
    "# Find occurrence of emails\n",
    "## create groups to extract parts of a matched string.\n",
    "\n",
    "text = 'purple alice-b@google.com monkey dishwasher'\n",
    "\n",
    "pattern = r'([\\w.-]+)@([\\w.-]+)'    # () creates groups\n",
    "\n",
    "match = re.search(pattern, text)        \n",
    "if match:\n",
    "    print(match.group())   ## (the whole match)\n",
    "    print(match.group(1))  ## (the username, group 1)\n",
    "    print(match.group(2))  ## (the host, group 2)"
   ]
  },
  {
   "cell_type": "code",
   "execution_count": null,
   "metadata": {},
   "outputs": [],
   "source": [
    "#replace domain with Upgrad.com\n",
    "\n",
    "text = 'aaa@gmail.com bbb@hotmail.com ccc@apple.com'\n",
    "\n",
    "\n",
    "print(re.sub('gmail|hotmail|apple', 'UpGrad', text))"
   ]
  },
  {
   "cell_type": "code",
   "execution_count": 40,
   "metadata": {},
   "outputs": [
    {
     "name": "stdout",
     "output_type": "stream",
     "text": [
      "info@gmail.com info@hotmail.com info@apple.com\n"
     ]
    }
   ],
   "source": [
    "# replacing parts of strings\n",
    "text = 'aaa@gmail.com bbb@hotmail.com ccc@apple.com'\n",
    "\n",
    "#anything before @ with info\n",
    "print(re.sub('[a-z]*@', 'info@', text))    "
   ]
  },
  {
   "cell_type": "markdown",
   "metadata": {},
   "source": [
    "***"
   ]
  }
 ],
 "metadata": {
  "kernelspec": {
   "display_name": "Python 3 (ipykernel)",
   "language": "python",
   "name": "python3"
  },
  "language_info": {
   "codemirror_mode": {
    "name": "ipython",
    "version": 3
   },
   "file_extension": ".py",
   "mimetype": "text/x-python",
   "name": "python",
   "nbconvert_exporter": "python",
   "pygments_lexer": "ipython3",
   "version": "3.9.12"
  }
 },
 "nbformat": 4,
 "nbformat_minor": 2
}
