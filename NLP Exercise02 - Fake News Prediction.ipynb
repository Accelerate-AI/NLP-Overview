{
 "cells": [
  {
   "cell_type": "markdown",
   "id": "82112276",
   "metadata": {
    "id": "SQgFdrhtNkC-",
    "papermill": {
     "duration": 0.032746,
     "end_time": "2021-09-29T16:34:36.658578",
     "exception": false,
     "start_time": "2021-09-29T16:34:36.625832",
     "status": "completed"
    },
    "tags": []
   },
   "source": [
    "# 1. Goal: Build a system to identify unreliable/fake news"
   ]
  },
  {
   "cell_type": "code",
   "execution_count": null,
   "id": "12f1bd62",
   "metadata": {
    "execution": {
     "iopub.execute_input": "2021-09-29T16:34:36.723921Z",
     "iopub.status.busy": "2021-09-29T16:34:36.722414Z",
     "iopub.status.idle": "2021-09-29T16:34:36.849775Z",
     "shell.execute_reply": "2021-09-29T16:34:36.850214Z",
     "shell.execute_reply.started": "2021-09-29T16:32:06.192342Z"
    },
    "papermill": {
     "duration": 0.161643,
     "end_time": "2021-09-29T16:34:36.850447",
     "exception": false,
     "start_time": "2021-09-29T16:34:36.688804",
     "status": "completed"
    },
    "tags": []
   },
   "outputs": [],
   "source": [
    "from IPython.display import Image\n",
    "Image(filename=\"process.png\")"
   ]
  },
  {
   "cell_type": "markdown",
   "id": "5d663fb8",
   "metadata": {
    "papermill": {
     "duration": 0.037271,
     "end_time": "2021-09-29T16:34:36.923882",
     "exception": false,
     "start_time": "2021-09-29T16:34:36.886611",
     "status": "completed"
    },
    "tags": []
   },
   "source": [
    "#### Dataset used - https://www.kaggle.com/c/fake-news/data\n",
    "\n",
    "### Dataset Description\n",
    "\n",
    "train.csv: A full training dataset with the following attributes:\n",
    "\n",
    "* id: unique id for a news article\n",
    "* title: the title of a news article\n",
    "* author: author of the news article\n",
    "* text: the text of the article; could be incomplete\n",
    "* label: a label that marks the article as potentially unreliable\n",
    "  * 1: unreliable\n",
    "  * 0: reliable\n",
    "\n",
    "test.csv: A testing training dataset with all the same attributes at train.csv without the label.\n",
    "\n",
    "submit.csv: A sample submission that you can use to submit your prediction results"
   ]
  },
  {
   "cell_type": "markdown",
   "id": "6221fbd6",
   "metadata": {
    "id": "6bEsRTdmN-It",
    "papermill": {
     "duration": 0.036496,
     "end_time": "2021-09-29T16:34:36.996639",
     "exception": false,
     "start_time": "2021-09-29T16:34:36.960143",
     "status": "completed"
    },
    "tags": []
   },
   "source": [
    "# 2. Import required libraries"
   ]
  },
  {
   "cell_type": "code",
   "execution_count": null,
   "id": "f628d6d5",
   "metadata": {
    "execution": {
     "iopub.execute_input": "2021-09-29T16:34:37.074690Z",
     "iopub.status.busy": "2021-09-29T16:34:37.074055Z",
     "iopub.status.idle": "2021-09-29T16:34:38.370322Z",
     "shell.execute_reply": "2021-09-29T16:34:38.369859Z",
     "shell.execute_reply.started": "2021-09-29T09:26:10.311769Z"
    },
    "id": "KZci0JDLN2kl",
    "papermill": {
     "duration": 1.337485,
     "end_time": "2021-09-29T16:34:38.370446",
     "exception": false,
     "start_time": "2021-09-29T16:34:37.032961",
     "status": "completed"
    },
    "tags": []
   },
   "outputs": [],
   "source": [
    "import numpy as np\n",
    "import pandas as pd\n",
    "import matplotlib.pyplot as plt\n",
    "\n",
    "#Regular expressions \n",
    "import re \n",
    "\n",
    "#Natural Language Toolkit\n",
    "import nltk \n",
    "from nltk.corpus import stopwords\n",
    "from nltk.stem import PorterStemmer, WordNetLemmatizer\n",
    "from nltk.tokenize import sent_tokenize, word_tokenize\n",
    "\n",
    "#Scikit-Learn for modeling\n",
    "from sklearn.feature_extraction.text import TfidfVectorizer\n",
    "from sklearn.model_selection import train_test_split\n",
    "from sklearn.linear_model import LogisticRegression\n",
    "from sklearn.ensemble import RandomForestClassifier\n",
    "from sklearn.metrics import accuracy_score, confusion_matrix, classification_report\n",
    "\n",
    "import itertools      #required for confusion metrics"
   ]
  },
  {
   "cell_type": "markdown",
   "id": "6d0206f0",
   "metadata": {
    "papermill": {
     "duration": 0.036014,
     "end_time": "2021-09-29T16:34:38.444385",
     "exception": false,
     "start_time": "2021-09-29T16:34:38.408371",
     "status": "completed"
    },
    "tags": []
   },
   "source": [
    "The Natural Language Toolkit (NLTK) is a platform used for building Python programs that work with human language data for applying in statistical natural language processing (NLP). It contains text processing libraries for tokenization, parsing, classification, stemming, tagging and semantic reasoning."
   ]
  },
  {
   "cell_type": "markdown",
   "id": "5610f89f",
   "metadata": {
    "papermill": {
     "duration": 0.036175,
     "end_time": "2021-09-29T16:34:38.516113",
     "exception": false,
     "start_time": "2021-09-29T16:34:38.479938",
     "status": "completed"
    },
    "tags": []
   },
   "source": [
    "Stopwords are words which occur frequently in a corpus. e.g a, an, the, in. Frequently occurring words are removed from the corpus for the purpose of text-normalization."
   ]
  },
  {
   "cell_type": "code",
   "execution_count": null,
   "id": "6bba3a8b",
   "metadata": {
    "execution": {
     "iopub.execute_input": "2021-09-29T16:34:38.603465Z",
     "iopub.status.busy": "2021-09-29T16:34:38.602831Z",
     "iopub.status.idle": "2021-09-29T16:34:38.721181Z",
     "shell.execute_reply": "2021-09-29T16:34:38.721582Z",
     "shell.execute_reply.started": "2021-09-29T09:26:22.603361Z"
    },
    "id": "G9PYX2jbjOi1",
    "outputId": "b7b6c081-3a4b-436f-ef91-0909617c0fe8",
    "papermill": {
     "duration": 0.166621,
     "end_time": "2021-09-29T16:34:38.721726",
     "exception": false,
     "start_time": "2021-09-29T16:34:38.555105",
     "status": "completed"
    },
    "tags": []
   },
   "outputs": [],
   "source": [
    "#Download the stopwords and tokenizer \n",
    "\n",
    "nltk.download('')        #stopwords\n",
    "nltk.download('')        #punkt"
   ]
  },
  {
   "cell_type": "code",
   "execution_count": null,
   "id": "0a92108c",
   "metadata": {
    "execution": {
     "iopub.execute_input": "2021-09-29T16:34:38.799137Z",
     "iopub.status.busy": "2021-09-29T16:34:38.798500Z",
     "iopub.status.idle": "2021-09-29T16:34:38.809658Z",
     "shell.execute_reply": "2021-09-29T16:34:38.810083Z",
     "shell.execute_reply.started": "2021-09-29T09:26:26.785564Z"
    },
    "id": "sjxdgaf6kicY",
    "outputId": "ebe27466-d197-4d62-dde4-31c02447284a",
    "papermill": {
     "duration": 0.051875,
     "end_time": "2021-09-29T16:34:38.810221",
     "exception": false,
     "start_time": "2021-09-29T16:34:38.758346",
     "status": "completed"
    },
    "tags": []
   },
   "outputs": [],
   "source": [
    "# Printing the stopwords in English\n",
    "print(stopwords.words('english'))"
   ]
  },
  {
   "cell_type": "markdown",
   "id": "79673b36",
   "metadata": {
    "id": "ISb3BD1kk9p6",
    "papermill": {
     "duration": 0.037282,
     "end_time": "2021-09-29T16:34:38.884871",
     "exception": false,
     "start_time": "2021-09-29T16:34:38.847589",
     "status": "completed"
    },
    "tags": []
   },
   "source": [
    "# 3. Data Pre-processing and Analysis\n",
    "\n",
    "#### Typically, we follow below standard steps from text pre-processing and feature engineering standpoint"
   ]
  },
  {
   "cell_type": "code",
   "execution_count": null,
   "id": "11180396",
   "metadata": {
    "execution": {
     "iopub.execute_input": "2021-09-29T16:34:38.962449Z",
     "iopub.status.busy": "2021-09-29T16:34:38.961942Z",
     "iopub.status.idle": "2021-09-29T16:34:38.978949Z",
     "shell.execute_reply": "2021-09-29T16:34:38.979388Z",
     "shell.execute_reply.started": "2021-09-29T16:34:01.538310Z"
    },
    "jupyter": {
     "source_hidden": true
    },
    "papermill": {
     "duration": 0.057392,
     "end_time": "2021-09-29T16:34:38.979535",
     "exception": false,
     "start_time": "2021-09-29T16:34:38.922143",
     "status": "completed"
    },
    "tags": []
   },
   "outputs": [],
   "source": [
    "from IPython.display import Image\n",
    "Image(filename=\"featureengg.png\")"
   ]
  },
  {
   "cell_type": "markdown",
   "id": "3f1ac583",
   "metadata": {
    "papermill": {
     "duration": 0.039008,
     "end_time": "2021-09-29T16:34:39.058498",
     "exception": false,
     "start_time": "2021-09-29T16:34:39.019490",
     "status": "completed"
    },
    "tags": []
   },
   "source": [
    "## 3.1 Load the dataset, Read and Parse Text"
   ]
  },
  {
   "cell_type": "code",
   "execution_count": null,
   "id": "04156c39",
   "metadata": {
    "execution": {
     "iopub.execute_input": "2021-09-29T16:34:39.140858Z",
     "iopub.status.busy": "2021-09-29T16:34:39.140329Z",
     "iopub.status.idle": "2021-09-29T16:34:41.727710Z",
     "shell.execute_reply": "2021-09-29T16:34:41.727193Z",
     "shell.execute_reply.started": "2021-09-29T09:26:32.554421Z"
    },
    "id": "JD8eKt_1kp7E",
    "papermill": {
     "duration": 2.630393,
     "end_time": "2021-09-29T16:34:41.727851",
     "exception": false,
     "start_time": "2021-09-29T16:34:39.097458",
     "status": "completed"
    },
    "tags": []
   },
   "outputs": [],
   "source": [
    "# First let's load the dataset\n",
    "news_dataset = pd.read_csv('train_sm.csv')"
   ]
  },
  {
   "cell_type": "code",
   "execution_count": null,
   "id": "6db68bf1",
   "metadata": {
    "execution": {
     "iopub.execute_input": "2021-09-29T16:34:41.822571Z",
     "iopub.status.busy": "2021-09-29T16:34:41.821852Z",
     "iopub.status.idle": "2021-09-29T16:34:41.836316Z",
     "shell.execute_reply": "2021-09-29T16:34:41.835917Z",
     "shell.execute_reply.started": "2021-09-29T09:26:35.870778Z"
    },
    "id": "_jxazdGE5_3p",
    "outputId": "21cf9aad-8ced-4b35-eb10-70602ac8709b",
    "papermill": {
     "duration": 0.066258,
     "end_time": "2021-09-29T16:34:41.836427",
     "exception": false,
     "start_time": "2021-09-29T16:34:41.770169",
     "status": "completed"
    },
    "tags": []
   },
   "outputs": [],
   "source": [
    "#Let's peek into the data\n",
    "news_dataset.sample()"
   ]
  },
  {
   "cell_type": "code",
   "execution_count": null,
   "id": "f1d24169",
   "metadata": {
    "execution": {
     "iopub.execute_input": "2021-09-29T16:34:41.922652Z",
     "iopub.status.busy": "2021-09-29T16:34:41.921882Z",
     "iopub.status.idle": "2021-09-29T16:34:41.924812Z",
     "shell.execute_reply": "2021-09-29T16:34:41.925220Z",
     "shell.execute_reply.started": "2021-09-29T09:26:37.320442Z"
    },
    "id": "VEaokah9BH-r",
    "outputId": "10b885bb-53cf-4420-8a06-c07529bdc232",
    "papermill": {
     "duration": 0.048238,
     "end_time": "2021-09-29T16:34:41.925347",
     "exception": false,
     "start_time": "2021-09-29T16:34:41.877109",
     "status": "completed"
    },
    "tags": []
   },
   "outputs": [],
   "source": [
    "# No of articles?\n",
    "news_dataset.shape"
   ]
  },
  {
   "cell_type": "code",
   "execution_count": null,
   "id": "3d38f612",
   "metadata": {
    "execution": {
     "iopub.execute_input": "2021-09-29T16:34:42.019333Z",
     "iopub.status.busy": "2021-09-29T16:34:42.017638Z",
     "iopub.status.idle": "2021-09-29T16:34:42.026189Z",
     "shell.execute_reply": "2021-09-29T16:34:42.026597Z",
     "shell.execute_reply.started": "2021-09-29T09:26:39.485308Z"
    },
    "id": "ipTt1VH7C1-g",
    "outputId": "872f7b4c-646f-4349-c70d-e0064bfa5b20",
    "papermill": {
     "duration": 0.060616,
     "end_time": "2021-09-29T16:34:42.026730",
     "exception": false,
     "start_time": "2021-09-29T16:34:41.966114",
     "status": "completed"
    },
    "tags": []
   },
   "outputs": [],
   "source": [
    "# Checking for missing values\n",
    "news_dataset.isnull().sum()"
   ]
  },
  {
   "cell_type": "code",
   "execution_count": null,
   "id": "d95f9736",
   "metadata": {
    "execution": {
     "iopub.execute_input": "2021-09-29T16:34:42.121903Z",
     "iopub.status.busy": "2021-09-29T16:34:42.113616Z",
     "iopub.status.idle": "2021-09-29T16:34:42.126403Z",
     "shell.execute_reply": "2021-09-29T16:34:42.125973Z",
     "shell.execute_reply.started": "2021-09-29T09:26:43.657976Z"
    },
    "id": "HAnD7KdkC4mV",
    "papermill": {
     "duration": 0.057693,
     "end_time": "2021-09-29T16:34:42.126507",
     "exception": false,
     "start_time": "2021-09-29T16:34:42.068814",
     "status": "completed"
    },
    "tags": []
   },
   "outputs": [],
   "source": [
    "# Let's replace the missing values with empty strings wherever possible\n",
    "# news_dataset = news_dataset.fillna('')"
   ]
  },
  {
   "cell_type": "code",
   "execution_count": null,
   "id": "aba665b0",
   "metadata": {
    "execution": {
     "iopub.execute_input": "2021-09-29T16:34:42.314797Z",
     "iopub.status.busy": "2021-09-29T16:34:42.312289Z",
     "iopub.status.idle": "2021-09-29T16:34:42.465764Z",
     "shell.execute_reply": "2021-09-29T16:34:42.465276Z",
     "shell.execute_reply.started": "2021-09-29T09:26:49.452922Z"
    },
    "id": "B4ynAOumDEob",
    "papermill": {
     "duration": 0.199107,
     "end_time": "2021-09-29T16:34:42.465896",
     "exception": false,
     "start_time": "2021-09-29T16:34:42.266789",
     "status": "completed"
    },
    "tags": []
   },
   "outputs": [],
   "source": [
    "# We will use all text fields such as Title, Author & text description to train our model \n",
    "# to help predict if it is real or unreliable news\n",
    "news_dataset['text_corpus'] = news_dataset['title']+' '+news_dataset['author']+''+news_dataset['text']"
   ]
  },
  {
   "cell_type": "code",
   "execution_count": null,
   "id": "2eeb4408",
   "metadata": {
    "execution": {
     "iopub.execute_input": "2021-09-29T16:34:42.556130Z",
     "iopub.status.busy": "2021-09-29T16:34:42.555337Z",
     "iopub.status.idle": "2021-09-29T16:34:42.558698Z",
     "shell.execute_reply": "2021-09-29T16:34:42.559381Z",
     "shell.execute_reply.started": "2021-09-29T09:26:51.494759Z"
    },
    "id": "BRo-s2TEDMBH",
    "outputId": "3950fffc-7d92-45d2-ff65-f353d051b9ec",
    "papermill": {
     "duration": 0.051698,
     "end_time": "2021-09-29T16:34:42.559580",
     "exception": false,
     "start_time": "2021-09-29T16:34:42.507882",
     "status": "completed"
    },
    "tags": []
   },
   "outputs": [],
   "source": [
    "print(news_dataset['text_corpus'])"
   ]
  },
  {
   "cell_type": "code",
   "execution_count": null,
   "id": "77582ef7",
   "metadata": {
    "execution": {
     "iopub.execute_input": "2021-09-29T16:34:42.655661Z",
     "iopub.status.busy": "2021-09-29T16:34:42.647310Z",
     "iopub.status.idle": "2021-09-29T16:34:42.658243Z",
     "shell.execute_reply": "2021-09-29T16:34:42.658672Z",
     "shell.execute_reply.started": "2021-09-29T09:26:53.008053Z"
    },
    "id": "dgGMACjLDOzO",
    "outputId": "c22043c0-c213-4168-bb22-8a55454f2110",
    "papermill": {
     "duration": 0.056007,
     "end_time": "2021-09-29T16:34:42.658798",
     "exception": false,
     "start_time": "2021-09-29T16:34:42.602791",
     "status": "completed"
    },
    "tags": []
   },
   "outputs": [],
   "source": [
    "news_dataset.head()"
   ]
  },
  {
   "cell_type": "code",
   "execution_count": null,
   "id": "a25eb688",
   "metadata": {
    "execution": {
     "iopub.execute_input": "2021-09-29T16:34:42.749883Z",
     "iopub.status.busy": "2021-09-29T16:34:42.749026Z",
     "iopub.status.idle": "2021-09-29T16:34:42.756296Z",
     "shell.execute_reply": "2021-09-29T16:34:42.755887Z",
     "shell.execute_reply.started": "2021-09-29T09:26:56.231492Z"
    },
    "id": "BgsKn4p2D9KQ",
    "papermill": {
     "duration": 0.055769,
     "end_time": "2021-09-29T16:34:42.756411",
     "exception": false,
     "start_time": "2021-09-29T16:34:42.700642",
     "status": "completed"
    },
    "tags": []
   },
   "outputs": [],
   "source": [
    "# Now we will separate the data and label i.e. text_corpus and label fields\n",
    "X = news_dataset.drop(columns='label', axis=1)\n",
    "Y = news_dataset['label']"
   ]
  },
  {
   "cell_type": "code",
   "execution_count": 68,
   "id": "055d4fe6",
   "metadata": {
    "execution": {
     "iopub.execute_input": "2021-09-29T16:34:42.848283Z",
     "iopub.status.busy": "2021-09-29T16:34:42.846477Z",
     "iopub.status.idle": "2021-09-29T16:34:42.851918Z",
     "shell.execute_reply": "2021-09-29T16:34:42.851311Z",
     "shell.execute_reply.started": "2021-09-29T09:27:01.228276Z"
    },
    "id": "WUeE5bXnEKJJ",
    "outputId": "91e16bb6-ff3a-446b-a5cb-2f31357b6bd8",
    "papermill": {
     "duration": 0.052655,
     "end_time": "2021-09-29T16:34:42.852040",
     "exception": false,
     "start_time": "2021-09-29T16:34:42.799385",
     "status": "completed"
    },
    "tags": []
   },
   "outputs": [
    {
     "data": {
      "text/plain": [
       "0    House Dem Aide: We Didn’t Even See Comey’s Let...\n",
       "1    FLYNN: Hillary Clinton, Big Woman on Campus - ...\n",
       "2    Why the Truth Might Get You Fired Consortiumne...\n",
       "3    15 Civilians Killed In Single US Airstrike Hav...\n",
       "4    Iranian woman jailed for fictional unpublished...\n",
       "Name: text_corpus, dtype: object"
      ]
     },
     "execution_count": 68,
     "metadata": {},
     "output_type": "execute_result"
    }
   ],
   "source": [
    "X = news_dataset['text_corpus']\n",
    "X.head()"
   ]
  },
  {
   "cell_type": "code",
   "execution_count": 90,
   "id": "6ca8dbb0",
   "metadata": {},
   "outputs": [
    {
     "data": {
      "image/png": "[encoded data removed]",
      "text/plain": [
       "<Figure size 432x288 with 1 Axes>"
      ]
     },
     "metadata": {
      "needs_background": "light"
     },
     "output_type": "display_data"
    }
   ],
   "source": [
    "#Whats the split of the types of articles\n",
    "\n",
    "d = news_dataset['label'].value_counts()\n",
    "df = pd.DataFrame(data=d)\n",
    "\n",
    "ax = df.plot.bar()\n",
    "ax.set_xticks(df.index)\n",
    "ax.set_xticklabels([\"reliable\", \"unreliable\"], rotation=90)\n",
    "plt.show()"
   ]
  },
  {
   "cell_type": "markdown",
   "id": "c0e0dbfc",
   "metadata": {
    "papermill": {
     "duration": 0.042696,
     "end_time": "2021-09-29T16:34:43.131429",
     "exception": false,
     "start_time": "2021-09-29T16:34:43.088733",
     "status": "completed"
    },
    "tags": []
   },
   "source": [
    "## 3.2 Remove Special Characters \n",
    "\n",
    "- Pick all alphabet characters - lowercase and uppercase...all others such as numbers and punctuations will be removed.\n",
    "- Numbers or punctuations will be replaced by a whitespace\n",
    "\n",
    "## 3.3 Remove Stopwords\n",
    "\n",
    "- Remove standard english stopwords\n",
    "\n",
    "## 3.4 Stemming or Lemmatization\n",
    "\n",
    "- Here we will try to apply stemming - objective is to reduce the word to it's root word.\n",
    "- For example: actor, actress, acting, action --> act"
   ]
  },
  {
   "cell_type": "code",
   "execution_count": null,
   "id": "39ea182e",
   "metadata": {},
   "outputs": [],
   "source": [
    "## initialise the inbuilt Stemmer and the Lemmatizer\n",
    "#stemmer = PorterStemmer()\n",
    "\n",
    "#For lemmetization you can use this \n",
    "#wordnet_lemmatizer = WordNetLemmatizer()\n",
    "\n",
    "def preprocess(document):\n",
    "    'changes document to lower case, removes stopwords and stems the remainder of the sentence'\n",
    "    \n",
    "    # Pick all alphabet characters - lowercase and uppercase...all others such as numbers and punctuations will be removed. Numbers or punctuations will be replaced by a whitespace\n",
    "    document = re.sub('[^a-zA-Z]',' ', str(document))\n",
    "    \n",
    "    # change sentence to lower case\n",
    "    document = document.lower()\n",
    "\n",
    "    # tokenize into words\n",
    "    words = document.split()\n",
    "\n",
    "    # stem the words and remove stop words\n",
    "    words = [stemmer.stem(word) for word in words if not word in stopwords.words('english')]\n",
    "\n",
    "    # join words to make sentence\n",
    "    stemmed_content = \" \".join(words)\n",
    "\n",
    "    return stemmed_content"
   ]
  },
  {
   "cell_type": "code",
   "execution_count": null,
   "id": "6e88bc8e",
   "metadata": {},
   "outputs": [],
   "source": [
    "#Let's see what preprocess does to the text.\n",
    "preprocess(X[0])"
   ]
  },
  {
   "cell_type": "code",
   "execution_count": null,
   "id": "4704af33",
   "metadata": {},
   "outputs": [],
   "source": [
    "# Apply the function to all the rows. This may take a while to execute\n",
    "news_dataset['BOW'] = X.apply(preprocess)"
   ]
  },
  {
   "cell_type": "code",
   "execution_count": null,
   "id": "a2012e6f",
   "metadata": {
    "execution": {
     "iopub.execute_input": "2021-09-29T17:09:46.967515Z",
     "iopub.status.busy": "2021-09-29T17:09:46.965882Z",
     "iopub.status.idle": "2021-09-29T17:09:46.970360Z",
     "shell.execute_reply": "2021-09-29T17:09:46.969717Z",
     "shell.execute_reply.started": "2021-09-29T09:28:14.91357Z"
    },
    "id": "S-JfOLH3Ejww",
    "outputId": "24a59dd3-d022-40cd-8da9-c51c439d6e32",
    "papermill": {
     "duration": 0.055281,
     "end_time": "2021-09-29T17:09:46.970539",
     "exception": false,
     "start_time": "2021-09-29T17:09:46.915258",
     "status": "completed"
    },
    "tags": []
   },
   "outputs": [],
   "source": [
    "print(news_dataset['BOW'][:5])"
   ]
  },
  {
   "cell_type": "code",
   "execution_count": null,
   "id": "a0cca27c",
   "metadata": {
    "execution": {
     "iopub.execute_input": "2021-09-29T17:09:47.067433Z",
     "iopub.status.busy": "2021-09-29T17:09:47.065827Z",
     "iopub.status.idle": "2021-09-29T17:09:47.068143Z",
     "shell.execute_reply": "2021-09-29T17:09:47.068563Z",
     "shell.execute_reply.started": "2021-09-29T09:28:19.643511Z"
    },
    "id": "2pKq2V7KEuzN",
    "papermill": {
     "duration": 0.052589,
     "end_time": "2021-09-29T17:09:47.068693",
     "exception": false,
     "start_time": "2021-09-29T17:09:47.016104",
     "status": "completed"
    },
    "tags": []
   },
   "outputs": [],
   "source": [
    "# Separating data and label\n",
    "X = news_dataset['BOW'].values\n",
    "Y = news_dataset['label'].values"
   ]
  },
  {
   "cell_type": "code",
   "execution_count": null,
   "id": "e7a78bc7",
   "metadata": {
    "execution": {
     "iopub.execute_input": "2021-09-29T17:09:47.161763Z",
     "iopub.status.busy": "2021-09-29T17:09:47.161185Z",
     "iopub.status.idle": "2021-09-29T17:09:47.164709Z",
     "shell.execute_reply": "2021-09-29T17:09:47.165401Z",
     "shell.execute_reply.started": "2021-09-29T09:28:20.815978Z"
    },
    "id": "m-es97BfEyd5",
    "outputId": "ab930b97-8e05-47f5-f538-51cc4525dfe8",
    "papermill": {
     "duration": 0.053014,
     "end_time": "2021-09-29T17:09:47.165623",
     "exception": false,
     "start_time": "2021-09-29T17:09:47.112609",
     "status": "completed"
    },
    "tags": []
   },
   "outputs": [],
   "source": [
    "print(X[0])\n",
    "print(Y[0])"
   ]
  },
  {
   "cell_type": "markdown",
   "id": "bc98adfa",
   "metadata": {
    "id": "F_4omcQZKw2B",
    "papermill": {
     "duration": 0.044301,
     "end_time": "2021-09-29T17:09:47.354081",
     "exception": false,
     "start_time": "2021-09-29T17:09:47.309780",
     "status": "completed"
    },
    "tags": []
   },
   "source": [
    "## 3.5 TF-IDF (Term Frequency, Inverse Document Frequency)\n",
    "\n",
    "### Converting Textual data to Numerical data\n",
    "\n",
    "* We will use TF-IDF Vectorizer\n",
    "* TF-IDF Vectorizer will convert textual data to numerical data"
   ]
  },
  {
   "cell_type": "code",
   "execution_count": null,
   "id": "c6d8ee15",
   "metadata": {
    "execution": {
     "iopub.execute_input": "2021-09-29T17:09:47.494954Z",
     "iopub.status.busy": "2021-09-29T17:09:47.474093Z",
     "iopub.status.idle": "2021-09-29T17:10:05.360764Z",
     "shell.execute_reply": "2021-09-29T17:10:05.361802Z",
     "shell.execute_reply.started": "2021-09-29T09:29:25.753219Z"
    },
    "id": "E36k9ejcE1CZ",
    "papermill": {
     "duration": 17.958812,
     "end_time": "2021-09-29T17:10:05.362058",
     "exception": false,
     "start_time": "2021-09-29T17:09:47.403246",
     "status": "completed"
    },
    "tags": []
   },
   "outputs": [],
   "source": [
    "#Use the sklearn TFidf vectorizer \n",
    "\n",
    "vectorizer = TfidfVectorizer()\n",
    "vectorizer.fit(X)\n",
    "\n",
    "X = vectorizer.transform(X)"
   ]
  },
  {
   "cell_type": "code",
   "execution_count": null,
   "id": "bb751780",
   "metadata": {
    "execution": {
     "iopub.execute_input": "2021-09-29T17:10:05.520538Z",
     "iopub.status.busy": "2021-09-29T17:10:05.519670Z",
     "iopub.status.idle": "2021-09-29T17:10:05.583810Z",
     "shell.execute_reply": "2021-09-29T17:10:05.584860Z",
     "shell.execute_reply.started": "2021-09-29T09:30:22.498529Z"
    },
    "id": "WiLCbfb9E3XV",
    "outputId": "e47f6a2a-16fa-4183-9d19-10a6891b3224",
    "papermill": {
     "duration": 0.149909,
     "end_time": "2021-09-29T17:10:05.585084",
     "exception": false,
     "start_time": "2021-09-29T17:10:05.435175",
     "status": "completed"
    },
    "tags": []
   },
   "outputs": [],
   "source": [
    "print(X)"
   ]
  },
  {
   "cell_type": "markdown",
   "id": "d49400eb",
   "metadata": {
    "id": "wGntFJtaFL3C",
    "papermill": {
     "duration": 0.07524,
     "end_time": "2021-09-29T17:10:05.738027",
     "exception": false,
     "start_time": "2021-09-29T17:10:05.662787",
     "status": "completed"
    },
    "tags": []
   },
   "source": [
    "# 4. Modeling & Model Evaluation"
   ]
  },
  {
   "cell_type": "markdown",
   "id": "87bb6e8e",
   "metadata": {
    "id": "intKZXOYLLdr",
    "papermill": {
     "duration": 0.075895,
     "end_time": "2021-09-29T17:10:05.890041",
     "exception": false,
     "start_time": "2021-09-29T17:10:05.814146",
     "status": "completed"
    },
    "tags": []
   },
   "source": [
    "### Splitting the data into test and train datasets"
   ]
  },
  {
   "cell_type": "code",
   "execution_count": null,
   "id": "80b9d586",
   "metadata": {
    "execution": {
     "iopub.execute_input": "2021-09-29T17:10:06.044820Z",
     "iopub.status.busy": "2021-09-29T17:10:06.044051Z",
     "iopub.status.idle": "2021-09-29T17:10:06.087346Z",
     "shell.execute_reply": "2021-09-29T17:10:06.088406Z",
     "shell.execute_reply.started": "2021-09-29T09:30:29.414296Z"
    },
    "id": "-lDPB8dyE52A",
    "papermill": {
     "duration": 0.123296,
     "end_time": "2021-09-29T17:10:06.088634",
     "exception": false,
     "start_time": "2021-09-29T17:10:05.965338",
     "status": "completed"
    },
    "tags": []
   },
   "outputs": [],
   "source": [
    "X_train, X_test, Y_train, Y_test = train_test_split(X, Y, test_size=0.20, stratify=Y, random_state=123)"
   ]
  },
  {
   "cell_type": "markdown",
   "id": "c11e51c2",
   "metadata": {
    "id": "PzOIALEVLR2Z",
    "papermill": {
     "duration": 0.045692,
     "end_time": "2021-09-29T17:10:06.202390",
     "exception": false,
     "start_time": "2021-09-29T17:10:06.156698",
     "status": "completed"
    },
    "tags": []
   },
   "source": [
    "### Training the model (model1 : Logistic Regression)"
   ]
  },
  {
   "cell_type": "code",
   "execution_count": null,
   "id": "93985486",
   "metadata": {
    "execution": {
     "iopub.execute_input": "2021-09-29T17:10:06.298634Z",
     "iopub.status.busy": "2021-09-29T17:10:06.297646Z",
     "iopub.status.idle": "2021-09-29T17:10:08.671544Z",
     "shell.execute_reply": "2021-09-29T17:10:08.672324Z",
     "shell.execute_reply.started": "2021-09-29T09:30:32.498896Z"
    },
    "id": "O5VIzR0DFhXN",
    "outputId": "d6a89f2e-fba1-4050-cdc1-2690c309bf25",
    "papermill": {
     "duration": 2.424437,
     "end_time": "2021-09-29T17:10:08.672621",
     "exception": false,
     "start_time": "2021-09-29T17:10:06.248184",
     "status": "completed"
    },
    "tags": []
   },
   "outputs": [],
   "source": [
    "# Training a simple model\n",
    "lrmodel = LogisticRegression()\n",
    "\n",
    "#lrmodel.fit(X_train, Y_train)"
   ]
  },
  {
   "cell_type": "markdown",
   "id": "8bd7cb77",
   "metadata": {
    "papermill": {
     "duration": 0.059212,
     "end_time": "2021-09-29T17:10:08.816995",
     "exception": false,
     "start_time": "2021-09-29T17:10:08.757783",
     "status": "completed"
    },
    "tags": []
   },
   "source": [
    "### Model Evaluation"
   ]
  },
  {
   "cell_type": "code",
   "execution_count": null,
   "id": "9a515afe",
   "metadata": {
    "execution": {
     "iopub.execute_input": "2021-09-29T17:10:08.913926Z",
     "iopub.status.busy": "2021-09-29T17:10:08.912880Z",
     "iopub.status.idle": "2021-09-29T17:10:08.936143Z",
     "shell.execute_reply": "2021-09-29T17:10:08.935619Z",
     "shell.execute_reply.started": "2021-09-29T09:30:54.233344Z"
    },
    "id": "Z7UAIz6iGCQ7",
    "outputId": "b51b75e5-a178-4527-8eab-a61ec7ec02f9",
    "papermill": {
     "duration": 0.074387,
     "end_time": "2021-09-29T17:10:08.936266",
     "exception": false,
     "start_time": "2021-09-29T17:10:08.861879",
     "status": "completed"
    },
    "tags": []
   },
   "outputs": [],
   "source": [
    "# Accuracy Score on Training Data\n",
    "X_train_prediction = lrmodel.predict(X_train)\n",
    "training_data_accuracy = accuracy_score(X_train_prediction, Y_train)\n",
    "\n",
    "print('Accuracy score on the training data: ',training_data_accuracy)\n",
    "\n",
    "# Accuracy Score on Test Data\n",
    "X_test_prediction = lrmodel.predict(X_test)\n",
    "test_data_accuracy = accuracy_score(X_test_prediction, Y_test)\n",
    "\n",
    "print('Accuracy score on the test data: ',test_data_accuracy)"
   ]
  },
  {
   "cell_type": "code",
   "execution_count": null,
   "id": "16411813",
   "metadata": {
    "execution": {
     "iopub.execute_input": "2021-09-29T17:10:09.032751Z",
     "iopub.status.busy": "2021-09-29T17:10:09.031771Z",
     "iopub.status.idle": "2021-09-29T17:10:09.040107Z",
     "shell.execute_reply": "2021-09-29T17:10:09.040634Z",
     "shell.execute_reply.started": "2021-09-29T09:31:00.578185Z"
    },
    "id": "aKVlod9mN1uK",
    "papermill": {
     "duration": 0.058212,
     "end_time": "2021-09-29T17:10:09.040764",
     "exception": false,
     "start_time": "2021-09-29T17:10:08.982552",
     "status": "completed"
    },
    "tags": []
   },
   "outputs": [],
   "source": [
    "# Function to plot confusion Matrix\n",
    "def plot_confusion_matrix(cm, \n",
    "                          classes,\n",
    "                          normalize=False,\n",
    "                          title='Confusion Matrix',\n",
    "                          cmap=plt.cm.Blues):\n",
    "  plt.imshow(cm, interpolation='nearest', cmap=cmap)\n",
    "  plt.title(title)\n",
    "  plt.colorbar()\n",
    "  tick_marks = np.arange(len(classes))\n",
    "  plt.xticks(tick_marks, classes, rotation=45)\n",
    "  plt.yticks(tick_marks, classes)\n",
    "  \n",
    "  if normalize:\n",
    "    cm = cm.astype('float') / cm.sum(axis=1)[:, np.newaxis]\n",
    "    print(\"Normalized confusion matrix\")\n",
    "  else:\n",
    "      print('Confusion matrix, without normalization')\n",
    "  thresh = cm.max() / 2.\n",
    "  for i, j in itertools.product(range(cm.shape[0]), range(cm.shape[1])):\n",
    "      plt.text(j, i, cm[i, j],horizontalalignment=\"center\",color=\"white\" if cm[i, j] > thresh else \"black\")\n",
    "  plt.tight_layout()\n",
    "  plt.ylabel('True label')\n",
    "  plt.xlabel('Predicted label')"
   ]
  },
  {
   "cell_type": "code",
   "execution_count": null,
   "id": "3fe7035d",
   "metadata": {
    "execution": {
     "iopub.execute_input": "2021-09-29T17:10:09.136071Z",
     "iopub.status.busy": "2021-09-29T17:10:09.135252Z",
     "iopub.status.idle": "2021-09-29T17:10:09.434871Z",
     "shell.execute_reply": "2021-09-29T17:10:09.435296Z",
     "shell.execute_reply.started": "2021-09-29T09:31:13.910346Z"
    },
    "id": "85q6J8edPKeS",
    "outputId": "f96d4f22-c9b5-4500-a51b-995db78f1f61",
    "papermill": {
     "duration": 0.349413,
     "end_time": "2021-09-29T17:10:09.435463",
     "exception": false,
     "start_time": "2021-09-29T17:10:09.086050",
     "status": "completed"
    },
    "tags": []
   },
   "outputs": [],
   "source": [
    "cm = confusion_matrix(Y_test, X_test_prediction)\n",
    "plot_confusion_matrix(cm, classes=['Unreliable', 'Reliable'])"
   ]
  },
  {
   "cell_type": "code",
   "execution_count": null,
   "id": "a372c1f2",
   "metadata": {
    "execution": {
     "iopub.execute_input": "2021-09-29T17:10:09.533114Z",
     "iopub.status.busy": "2021-09-29T17:10:09.532281Z",
     "iopub.status.idle": "2021-09-29T17:10:09.544608Z",
     "shell.execute_reply": "2021-09-29T17:10:09.544175Z",
     "shell.execute_reply.started": "2021-09-29T09:31:20.29172Z"
    },
    "id": "6MN58PlxMo-6",
    "outputId": "daadd325-061c-4936-901c-4f4c9dcdfe26",
    "papermill": {
     "duration": 0.062213,
     "end_time": "2021-09-29T17:10:09.544728",
     "exception": false,
     "start_time": "2021-09-29T17:10:09.482515",
     "status": "completed"
    },
    "tags": []
   },
   "outputs": [],
   "source": [
    "# Classification report for test data\n",
    "classification_report(Y_test, X_test_prediction)"
   ]
  },
  {
   "cell_type": "code",
   "execution_count": null,
   "id": "750002cb",
   "metadata": {},
   "outputs": [],
   "source": [
    "# Training a Random forest Classifier model\n",
    "rfmodel =                             # Use the RandomForestClassifier with 500 trees\n",
    "rfmodel.fit(X_train, Y_train)\n",
    "\n",
    "# Accuracy Score on Test Data\n",
    "X_test_prediction = rfmodel.predict(X_test)\n",
    "test_data_accuracy = accuracy_score(X_test_prediction, Y_test)\n",
    "\n",
    "print('Accuracy score on the test data: ',test_data_accuracy)\n",
    "\n",
    "cm = confusion_matrix(Y_test, X_test_prediction)\n",
    "plot_confusion_matrix(cm, classes=['Unreliable', 'Reliable'])"
   ]
  },
  {
   "cell_type": "markdown",
   "id": "d90b63ec",
   "metadata": {
    "id": "RRVRMQcKHgBD",
    "papermill": {
     "duration": 0.046574,
     "end_time": "2021-09-29T17:10:09.638000",
     "exception": false,
     "start_time": "2021-09-29T17:10:09.591426",
     "status": "completed"
    },
    "tags": []
   },
   "source": [
    "# 5. Making a Prediction"
   ]
  },
  {
   "cell_type": "code",
   "execution_count": null,
   "id": "b4923f96",
   "metadata": {
    "execution": {
     "iopub.execute_input": "2021-09-29T17:10:09.738803Z",
     "iopub.status.busy": "2021-09-29T17:10:09.738150Z",
     "iopub.status.idle": "2021-09-29T17:10:09.741162Z",
     "shell.execute_reply": "2021-09-29T17:10:09.741780Z",
     "shell.execute_reply.started": "2021-09-29T09:31:26.808545Z"
    },
    "id": "6hoCkpjLGeLQ",
    "outputId": "3f3661c8-9800-479d-8390-9c49abab2eee",
    "papermill": {
     "duration": 0.056726,
     "end_time": "2021-09-29T17:10:09.741972",
     "exception": false,
     "start_time": "2021-09-29T17:10:09.685246",
     "status": "completed"
    },
    "tags": []
   },
   "outputs": [],
   "source": [
    "# Load the test dataset\n",
    "\n",
    "test_dataset = pd.read_csv('test.csv')\n",
    "\n",
    "test_dataset['text_corpus'] = test_dataset['title']+' '+test_dataset['author']+''+test_dataset['text']\n",
    "test_dataset['BOW'] = test_dataset['text_corpus'].apply(preprocess)\n",
    "\n",
    "X_text = vectorizer.transform(test_dataset['BOW'])\n",
    "\n",
    "prediction = lrmodel.predict(X_text)"
   ]
  },
  {
   "cell_type": "code",
   "execution_count": null,
   "id": "39b7bf61",
   "metadata": {
    "execution": {
     "iopub.execute_input": "2021-09-29T17:10:09.847353Z",
     "iopub.status.busy": "2021-09-29T17:10:09.846749Z",
     "iopub.status.idle": "2021-09-29T17:10:09.849260Z",
     "shell.execute_reply": "2021-09-29T17:10:09.849666Z",
     "shell.execute_reply.started": "2021-09-29T09:34:33.284688Z"
    },
    "papermill": {
     "duration": 0.05986,
     "end_time": "2021-09-29T17:10:09.849785",
     "exception": false,
     "start_time": "2021-09-29T17:10:09.789925",
     "status": "completed"
    },
    "tags": []
   },
   "outputs": [],
   "source": [
    "test_dataset['prediction'] = prediction\n",
    "test_dataset"
   ]
  },
  {
   "cell_type": "code",
   "execution_count": null,
   "id": "739b9466",
   "metadata": {
    "execution": {
     "iopub.execute_input": "2021-09-29T17:10:09.948338Z",
     "iopub.status.busy": "2021-09-29T17:10:09.947691Z",
     "iopub.status.idle": "2021-09-29T17:10:09.950416Z",
     "shell.execute_reply": "2021-09-29T17:10:09.951064Z",
     "shell.execute_reply.started": "2021-09-29T09:34:46.145637Z"
    },
    "id": "cK50HMt4IEWD",
    "outputId": "54058830-d17e-47bb-b595-f96ee2bcc48c",
    "papermill": {
     "duration": 0.054878,
     "end_time": "2021-09-29T17:10:09.951247",
     "exception": false,
     "start_time": "2021-09-29T17:10:09.896369",
     "status": "completed"
    },
    "tags": []
   },
   "outputs": [],
   "source": [
    "print(Y_test[100])"
   ]
  },
  {
   "cell_type": "markdown",
   "id": "256157d6",
   "metadata": {
    "id": "jFCP-daxIMrl",
    "papermill": {
     "duration": 0.048031,
     "end_time": "2021-09-29T17:10:10.048152",
     "exception": false,
     "start_time": "2021-09-29T17:10:10.000121",
     "status": "completed"
    },
    "tags": []
   },
   "source": [
    "***"
   ]
  }
 ],
 "metadata": {
  "kernelspec": {
   "display_name": "Python 3 (ipykernel)",
   "language": "python",
   "name": "python3"
  },
  "language_info": {
   "codemirror_mode": {
    "name": "ipython",
    "version": 3
   },
   "file_extension": ".py",
   "mimetype": "text/x-python",
   "name": "python",
   "nbconvert_exporter": "python",
   "pygments_lexer": "ipython3",
   "version": "3.9.12"
  },
  "papermill": {
   "default_parameters": {},
   "duration": 2140.826204,
   "end_time": "2021-09-29T17:10:10.602486",
   "environment_variables": {},
   "exception": null,
   "input_path": "__notebook__.ipynb",
   "output_path": "__notebook__.ipynb",
   "parameters": {},
   "start_time": "2021-09-29T16:34:29.776282",
   "version": "2.3.3"
  }
 },
 "nbformat": 4,
 "nbformat_minor": 5
}
